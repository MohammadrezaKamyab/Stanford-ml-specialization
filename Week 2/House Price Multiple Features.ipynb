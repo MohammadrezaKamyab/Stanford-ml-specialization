{
 "cells": [
  {
   "cell_type": "code",
   "execution_count": 43,
   "id": "18b01c06-0f3f-44bc-b26b-5c841c0f19b8",
   "metadata": {},
   "outputs": [],
   "source": [
    "import numpy as np\n",
    "import pandas as pd\n",
    "import matplotlib.pyplot as plt\n",
    "import seaborn as sns\n",
    "import math, copy"
   ]
  },
  {
   "cell_type": "code",
   "execution_count": 2,
   "id": "b5387609-f8b3-4185-a9c2-053d6502d445",
   "metadata": {},
   "outputs": [],
   "source": [
    "np.random.seed(50)\n",
    "SAMPLES = 100"
   ]
  },
  {
   "cell_type": "code",
   "execution_count": 16,
   "id": "d0e654fd-306c-4c16-b7bf-cbf71b193378",
   "metadata": {},
   "outputs": [],
   "source": [
    "size = np.random.randint(600,1500, SAMPLES)\n",
    "bedrooms = np.round(size / ((np.random.random() + 10) * 10)).astype(\"int_\")\n",
    "floors = np.random.randint(1,4, SAMPLES)\n",
    "age = np.random.randint(10,80,SAMPLES)\n",
    "price = size * (np.random.random() * 2) + bedrooms * (np.random.random() * 50 + 10) + floors * (np.random.random() * 50 + 10) - age * (np.random.random() * 7 + 10) + np.random.randint(1,100, SAMPLES)"
   ]
  },
  {
   "cell_type": "code",
   "execution_count": 18,
   "id": "25201838-9bac-4b72-aea1-4985a8af48dd",
   "metadata": {},
   "outputs": [
    {
     "data": {
      "text/html": [
       "<div>\n",
       "<style scoped>\n",
       "    .dataframe tbody tr th:only-of-type {\n",
       "        vertical-align: middle;\n",
       "    }\n",
       "\n",
       "    .dataframe tbody tr th {\n",
       "        vertical-align: top;\n",
       "    }\n",
       "\n",
       "    .dataframe thead th {\n",
       "        text-align: right;\n",
       "    }\n",
       "</style>\n",
       "<table border=\"1\" class=\"dataframe\">\n",
       "  <thead>\n",
       "    <tr style=\"text-align: right;\">\n",
       "      <th></th>\n",
       "      <th>Size</th>\n",
       "      <th>Bedroom</th>\n",
       "      <th>Floor</th>\n",
       "      <th>Age</th>\n",
       "      <th>Price</th>\n",
       "    </tr>\n",
       "  </thead>\n",
       "  <tbody>\n",
       "    <tr>\n",
       "      <th>0</th>\n",
       "      <td>1461</td>\n",
       "      <td>15</td>\n",
       "      <td>1</td>\n",
       "      <td>49</td>\n",
       "      <td>2213.443103</td>\n",
       "    </tr>\n",
       "    <tr>\n",
       "      <th>1</th>\n",
       "      <td>884</td>\n",
       "      <td>9</td>\n",
       "      <td>3</td>\n",
       "      <td>62</td>\n",
       "      <td>1067.184991</td>\n",
       "    </tr>\n",
       "    <tr>\n",
       "      <th>2</th>\n",
       "      <td>761</td>\n",
       "      <td>8</td>\n",
       "      <td>2</td>\n",
       "      <td>75</td>\n",
       "      <td>620.937107</td>\n",
       "    </tr>\n",
       "    <tr>\n",
       "      <th>3</th>\n",
       "      <td>1007</td>\n",
       "      <td>10</td>\n",
       "      <td>2</td>\n",
       "      <td>18</td>\n",
       "      <td>1741.042419</td>\n",
       "    </tr>\n",
       "    <tr>\n",
       "      <th>4</th>\n",
       "      <td>985</td>\n",
       "      <td>10</td>\n",
       "      <td>2</td>\n",
       "      <td>64</td>\n",
       "      <td>1180.025175</td>\n",
       "    </tr>\n",
       "  </tbody>\n",
       "</table>\n",
       "</div>"
      ],
      "text/plain": [
       "   Size  Bedroom  Floor  Age        Price\n",
       "0  1461       15      1   49  2213.443103\n",
       "1   884        9      3   62  1067.184991\n",
       "2   761        8      2   75   620.937107\n",
       "3  1007       10      2   18  1741.042419\n",
       "4   985       10      2   64  1180.025175"
      ]
     },
     "execution_count": 18,
     "metadata": {},
     "output_type": "execute_result"
    }
   ],
   "source": [
    "house_df = pd.DataFrame({\n",
    "    \"Size\": size,\n",
    "    \"Bedroom\": bedrooms,\n",
    "    \"Floor\" : floors,\n",
    "    \"Age\": age,\n",
    "    \"Price\": price\n",
    "})\n",
    "\n",
    "house_df.head()"
   ]
  },
  {
   "cell_type": "code",
   "execution_count": 19,
   "id": "1141d5b7-bdb8-4191-b5db-aa4fe094df9e",
   "metadata": {},
   "outputs": [
    {
     "data": {
      "text/html": [
       "<div>\n",
       "<style scoped>\n",
       "    .dataframe tbody tr th:only-of-type {\n",
       "        vertical-align: middle;\n",
       "    }\n",
       "\n",
       "    .dataframe tbody tr th {\n",
       "        vertical-align: top;\n",
       "    }\n",
       "\n",
       "    .dataframe thead th {\n",
       "        text-align: right;\n",
       "    }\n",
       "</style>\n",
       "<table border=\"1\" class=\"dataframe\">\n",
       "  <thead>\n",
       "    <tr style=\"text-align: right;\">\n",
       "      <th></th>\n",
       "      <th>Size</th>\n",
       "      <th>Bedroom</th>\n",
       "      <th>Floor</th>\n",
       "      <th>Age</th>\n",
       "      <th>Price</th>\n",
       "    </tr>\n",
       "  </thead>\n",
       "  <tbody>\n",
       "    <tr>\n",
       "      <th>Size</th>\n",
       "      <td>1.000000</td>\n",
       "      <td>0.994853</td>\n",
       "      <td>-0.259827</td>\n",
       "      <td>0.054618</td>\n",
       "      <td>0.903997</td>\n",
       "    </tr>\n",
       "    <tr>\n",
       "      <th>Bedroom</th>\n",
       "      <td>0.994853</td>\n",
       "      <td>1.000000</td>\n",
       "      <td>-0.245846</td>\n",
       "      <td>0.045146</td>\n",
       "      <td>0.906303</td>\n",
       "    </tr>\n",
       "    <tr>\n",
       "      <th>Floor</th>\n",
       "      <td>-0.259827</td>\n",
       "      <td>-0.245846</td>\n",
       "      <td>1.000000</td>\n",
       "      <td>-0.043291</td>\n",
       "      <td>-0.207860</td>\n",
       "    </tr>\n",
       "    <tr>\n",
       "      <th>Age</th>\n",
       "      <td>0.054618</td>\n",
       "      <td>0.045146</td>\n",
       "      <td>-0.043291</td>\n",
       "      <td>1.000000</td>\n",
       "      <td>-0.373198</td>\n",
       "    </tr>\n",
       "    <tr>\n",
       "      <th>Price</th>\n",
       "      <td>0.903997</td>\n",
       "      <td>0.906303</td>\n",
       "      <td>-0.207860</td>\n",
       "      <td>-0.373198</td>\n",
       "      <td>1.000000</td>\n",
       "    </tr>\n",
       "  </tbody>\n",
       "</table>\n",
       "</div>"
      ],
      "text/plain": [
       "             Size   Bedroom     Floor       Age     Price\n",
       "Size     1.000000  0.994853 -0.259827  0.054618  0.903997\n",
       "Bedroom  0.994853  1.000000 -0.245846  0.045146  0.906303\n",
       "Floor   -0.259827 -0.245846  1.000000 -0.043291 -0.207860\n",
       "Age      0.054618  0.045146 -0.043291  1.000000 -0.373198\n",
       "Price    0.903997  0.906303 -0.207860 -0.373198  1.000000"
      ]
     },
     "execution_count": 19,
     "metadata": {},
     "output_type": "execute_result"
    }
   ],
   "source": [
    "correlation_matrix = house_df.corr()\n",
    "correlation_matrix"
   ]
  },
  {
   "cell_type": "code",
   "execution_count": 20,
   "id": "3b18b897-2858-41c3-81f9-e2fb4245c125",
   "metadata": {},
   "outputs": [
    {
     "data": {
      "text/plain": [
       "Text(0.5, 1.0, 'Correlation between house components')"
      ]
     },
     "execution_count": 20,
     "metadata": {},
     "output_type": "execute_result"
    },
    {
     "data": {
      "image/png": "[encoded data removed]",
      "text/plain": [
       "<Figure size 640x480 with 2 Axes>"
      ]
     },
     "metadata": {},
     "output_type": "display_data"
    }
   ],
   "source": [
    "fig, ax = plt.subplots()\n",
    "sns.heatmap(data=correlation_matrix, cmap='coolwarm', annot=True, ax=ax)\n",
    "ax.set_title(\"Correlation between house components\")"
   ]
  },
  {
   "cell_type": "code",
   "execution_count": 30,
   "id": "04d9f1ab-eef3-429a-8da2-544238110345",
   "metadata": {},
   "outputs": [],
   "source": [
    "def predict (x, w, b):\n",
    "    \"\"\"\n",
    "    Args:\n",
    "        x (ndarray): shape (m,n) m training examples with n features\n",
    "        w (ndarray): shape (n) n weights for each feaures\n",
    "        b (scalar) : bias\n",
    "    Returns:\n",
    "        p (ndarray): shape(m) prediction or y_hat\n",
    "    \"\"\"\n",
    "    return np.dot(x, w) + b"
   ]
  },
  {
   "cell_type": "code",
   "execution_count": 36,
   "id": "ecb32f11-b208-4396-8f24-e8f72b3a336d",
   "metadata": {},
   "outputs": [],
   "source": [
    "def cost_function (x,y,w,b):\n",
    "    \"\"\"\n",
    "    Args:\n",
    "        x (ndarray): shape(m,n) m training examples with n features\n",
    "        y (ndarray): shape(m) target values\n",
    "        w (ndarray): shape(n) n weights for each features\n",
    "        b (scalar) : bias\n",
    "    Returns:\n",
    "        J (scalar): on average how much each prediction is far from the actual value\n",
    "    \"\"\"\n",
    "    m = x.shape[0]\n",
    "    return (1 / 2 * m) * np.sum(np.square(predict(x,w,b) - y))"
   ]
  },
  {
   "cell_type": "code",
   "execution_count": 41,
   "id": "de9945bd-14b9-43e1-ad26-0a790c80f2e3",
   "metadata": {},
   "outputs": [],
   "source": [
    "def gradient (x,y,w,b):\n",
    "    \"\"\"\n",
    "    Args:\n",
    "        x (ndarray): shape(m,n) m training examples with n features\n",
    "        y (ndarray): shape(m) target values\n",
    "        w (ndarray): shape(n) n weights for each features\n",
    "        b (scalar) : bias\n",
    "    Returns:\n",
    "        dj_dw (ndarray): shape(n) the gradient of the cost w.r.t. parameter w\n",
    "        dj_db (scalar): the gradient of the cost w.r.t. parameter b\n",
    "    \"\"\"\n",
    "    m , n = x.shape\n",
    "    y_hat = predict(x,w,b) #shape (m,)\n",
    "    error = y_hat - y #shape(m,)\n",
    "    dj_dw = (1 / m) * np.dot(x.T, error)\n",
    "    dj_db = (1/ m) * np.sum(error)\n",
    "    return dj_dw , dj_db"
   ]
  },
  {
   "cell_type": "code",
   "execution_count": 55,
   "id": "4647cc57-700c-4099-ae7c-36b820be46c3",
   "metadata": {},
   "outputs": [],
   "source": [
    "def gradient_descent (x, y, w_in, b_in, alpha, num_iter, cost_function, gradient_function, tolerance=1e-6):\n",
    "    J_history = list()\n",
    "    w = copy.deepcopy(w_in)\n",
    "    b = b_in\n",
    "\n",
    "    for i in range(num_iter):\n",
    "        dj_dw, dj_db = gradient_function(x,y,w,b)\n",
    "\n",
    "        w = w - alpha * dj_dw\n",
    "        b = b - alpha * dj_db\n",
    "\n",
    "        if i < 100000:\n",
    "            J_history.append(cost_function(x,y,w,b))\n",
    "            \n",
    "        if i % math.ceil(num_iter / 10) == 0:\n",
    "            print(f\"Iteration {i:4d} : cost {J_history[-1]:8.2f}\")\n",
    "\n",
    "        if i > 0 and abs(J_history[-1] - J_history[-2]) < tolerance:\n",
    "            print(f\"Convergece reached at Iteration {i:4d}\")\n",
    "            break\n",
    "    return w, b, J_history"
   ]
  },
  {
   "cell_type": "code",
   "execution_count": 56,
   "id": "28e63d7c-c043-4a3a-bbc4-5ca063b5b356",
   "metadata": {},
   "outputs": [
    {
     "name": "stdout",
     "output_type": "stream",
     "text": [
      "Iteration    0 : cost 12963683109.31\n",
      "Iteration 10000 : cost 287087761.94\n",
      "Iteration 20000 : cost 260090641.16\n",
      "Iteration 30000 : cost 235700922.77\n",
      "Iteration 40000 : cost 213666778.30\n",
      "Iteration 50000 : cost 193760701.41\n",
      "Iteration 60000 : cost 175777158.83\n",
      "Iteration 70000 : cost 159530468.10\n",
      "Iteration 80000 : cost 144852880.37\n",
      "Iteration 90000 : cost 131592848.36\n",
      "w = [ 1.65060421  0.02872602 -0.03288956 -4.33457844], b = -0.01555 , Cost 1.196e+08\n"
     ]
    }
   ],
   "source": [
    "m,n = house_df.iloc[:, :-1].shape\n",
    "w_init = np.zeros(n)\n",
    "b_init = 0\n",
    "Iterations = 100000\n",
    "alpha = 0.00000001\n",
    "\n",
    "w_final , b_final , J_hist = gradient_descent(house_df.iloc[:, :-1].values, house_df.Price.values, w_init, b_init, alpha, Iterations, cost_function, gradient)\n",
    "print(f\"w = {w_final}, b = {b_final:.5f} , Cost {cost_function(house_df.iloc[:, :-1].values, house_df.Price.values, w_final, b_final):.3e}\")"
   ]
  },
  {
   "cell_type": "code",
   "execution_count": null,
   "id": "924084df-5c97-4d53-9e90-5cc5294f9ae8",
   "metadata": {},
   "outputs": [],
   "source": []
  }
 ],
 "metadata": {
  "kernelspec": {
   "display_name": "Python 3 (ipykernel)",
   "language": "python",
   "name": "python3"
  },
  "language_info": {
   "codemirror_mode": {
    "name": "ipython",
    "version": 3
   },
   "file_extension": ".py",
   "mimetype": "text/x-python",
   "name": "python",
   "nbconvert_exporter": "python",
   "pygments_lexer": "ipython3",
   "version": "3.12.9"
  }
 },
 "nbformat": 4,
 "nbformat_minor": 5
}
