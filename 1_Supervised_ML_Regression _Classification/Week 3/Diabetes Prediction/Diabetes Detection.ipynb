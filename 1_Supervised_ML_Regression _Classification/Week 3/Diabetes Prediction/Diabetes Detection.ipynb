{
 "cells": [
  {
   "cell_type": "code",
   "execution_count": 1,
   "id": "b714b646-3a5c-40bf-ace3-a6662656ee96",
   "metadata": {},
   "outputs": [],
   "source": [
    "import numpy as np\n",
    "import pandas as pd\n",
    "import matplotlib.pyplot as plt\n",
    "import seaborn as sns\n",
    "import math, copy"
   ]
  },
  {
   "cell_type": "code",
   "execution_count": 13,
   "id": "89c2620a-316f-41d3-ba0e-70680f7da1d3",
   "metadata": {},
   "outputs": [
    {
     "data": {
      "text/html": [
       "<div>\n",
       "<style scoped>\n",
       "    .dataframe tbody tr th:only-of-type {\n",
       "        vertical-align: middle;\n",
       "    }\n",
       "\n",
       "    .dataframe tbody tr th {\n",
       "        vertical-align: top;\n",
       "    }\n",
       "\n",
       "    .dataframe thead th {\n",
       "        text-align: right;\n",
       "    }\n",
       "</style>\n",
       "<table border=\"1\" class=\"dataframe\">\n",
       "  <thead>\n",
       "    <tr style=\"text-align: right;\">\n",
       "      <th></th>\n",
       "      <th>Age</th>\n",
       "      <th>BMI</th>\n",
       "      <th>BloodPressure</th>\n",
       "      <th>BloodSugar</th>\n",
       "      <th>Insulin</th>\n",
       "      <th>SkinThickness</th>\n",
       "      <th>Pregnancies</th>\n",
       "      <th>Diabetes</th>\n",
       "    </tr>\n",
       "  </thead>\n",
       "  <tbody>\n",
       "    <tr>\n",
       "      <th>0</th>\n",
       "      <td>30</td>\n",
       "      <td>23.047731</td>\n",
       "      <td>101.545487</td>\n",
       "      <td>152.932385</td>\n",
       "      <td>114.612490</td>\n",
       "      <td>29.535403</td>\n",
       "      <td>3</td>\n",
       "      <td>0</td>\n",
       "    </tr>\n",
       "    <tr>\n",
       "      <th>1</th>\n",
       "      <td>57</td>\n",
       "      <td>23.555907</td>\n",
       "      <td>73.825689</td>\n",
       "      <td>98.226778</td>\n",
       "      <td>84.535408</td>\n",
       "      <td>16.736339</td>\n",
       "      <td>2</td>\n",
       "      <td>0</td>\n",
       "    </tr>\n",
       "    <tr>\n",
       "      <th>2</th>\n",
       "      <td>36</td>\n",
       "      <td>23.890746</td>\n",
       "      <td>77.992791</td>\n",
       "      <td>137.750152</td>\n",
       "      <td>73.659334</td>\n",
       "      <td>25.383680</td>\n",
       "      <td>1</td>\n",
       "      <td>0</td>\n",
       "    </tr>\n",
       "    <tr>\n",
       "      <th>3</th>\n",
       "      <td>21</td>\n",
       "      <td>34.400077</td>\n",
       "      <td>85.348633</td>\n",
       "      <td>140.470068</td>\n",
       "      <td>70.437477</td>\n",
       "      <td>32.805221</td>\n",
       "      <td>3</td>\n",
       "      <td>0</td>\n",
       "    </tr>\n",
       "    <tr>\n",
       "      <th>4</th>\n",
       "      <td>70</td>\n",
       "      <td>37.604824</td>\n",
       "      <td>71.759780</td>\n",
       "      <td>136.518451</td>\n",
       "      <td>128.454369</td>\n",
       "      <td>30.668244</td>\n",
       "      <td>3</td>\n",
       "      <td>0</td>\n",
       "    </tr>\n",
       "  </tbody>\n",
       "</table>\n",
       "</div>"
      ],
      "text/plain": [
       "   Age        BMI  BloodPressure  BloodSugar     Insulin  SkinThickness  \\\n",
       "0   30  23.047731     101.545487  152.932385  114.612490      29.535403   \n",
       "1   57  23.555907      73.825689   98.226778   84.535408      16.736339   \n",
       "2   36  23.890746      77.992791  137.750152   73.659334      25.383680   \n",
       "3   21  34.400077      85.348633  140.470068   70.437477      32.805221   \n",
       "4   70  37.604824      71.759780  136.518451  128.454369      30.668244   \n",
       "\n",
       "   Pregnancies  Diabetes  \n",
       "0            3         0  \n",
       "1            2         0  \n",
       "2            1         0  \n",
       "3            3         0  \n",
       "4            3         0  "
      ]
     },
     "execution_count": 13,
     "metadata": {},
     "output_type": "execute_result"
    }
   ],
   "source": [
    "# Set seed for reproducibility\n",
    "np.random.seed(10)\n",
    "\n",
    "# Number of samples\n",
    "n = 1000\n",
    "\n",
    "# Generate features with realistic value ranges\n",
    "age = np.random.randint(21, 81, n)  # 21 to 80 years\n",
    "bmi = np.random.normal(30, 6, n)  # average BMI around 30 ± 6\n",
    "blood_pressure = np.random.normal(75, 10, n)  # diastolic BP ~ 75 ± 10\n",
    "blood_sugar = np.random.normal(120, 30, n)  # fasting blood sugar ~ 120 ± 30\n",
    "insulin = np.random.normal(80, 25, n)  # insulin levels ~ 80 ± 25\n",
    "skin_thickness = np.random.normal(25, 8, n)  # skin fold thickness ~ 25 ± 8\n",
    "pregnancies = np.random.poisson(2, n)  # count variable\n",
    "\n",
    "# Combine features into a DataFrame\n",
    "df = pd.DataFrame({\n",
    "    'Age': age,\n",
    "    'BMI': bmi,\n",
    "    'BloodPressure': blood_pressure,\n",
    "    'BloodSugar': blood_sugar,\n",
    "    'Insulin': insulin,\n",
    "    'SkinThickness': skin_thickness,\n",
    "    'Pregnancies': pregnancies\n",
    "})\n",
    "\n",
    "# Simulate a target variable using a logistic function\n",
    "# (this is artificial, but helps for learning)\n",
    "z = (\n",
    "    0.03 * age +\n",
    "    0.2 * bmi +\n",
    "    0.05 * blood_sugar +\n",
    "    0.02 * insulin +\n",
    "    0.1 * pregnancies -\n",
    "    20  # bias term to keep probability in a reasonable range\n",
    ")\n",
    "probability = 1 / (1 + np.exp(-z))\n",
    "diabetes = (probability > 0.5).astype(int)\n",
    "\n",
    "df['Diabetes'] = diabetes\n",
    "\n",
    "# Show first 5 rows\n",
    "df.head()"
   ]
  },
  {
   "cell_type": "code",
   "execution_count": 14,
   "id": "fbd85f9e-3bb4-4153-84ac-3fcb26f4f494",
   "metadata": {},
   "outputs": [
    {
     "data": {
      "text/plain": [
       "<matplotlib.collections.PathCollection at 0x7469003887a0>"
      ]
     },
     "execution_count": 14,
     "metadata": {},
     "output_type": "execute_result"
    },
    {
     "data": {
      "image/png": "[encoded data removed]",
      "text/plain": [
       "<Figure size 640x480 with 1 Axes>"
      ]
     },
     "metadata": {},
     "output_type": "display_data"
    }
   ],
   "source": [
    "# Plot the Data based on Age\n",
    "plt.scatter(df.Age, df.Diabetes)"
   ]
  }
 ],
 "metadata": {
  "kernelspec": {
   "display_name": "Python 3 (ipykernel)",
   "language": "python",
   "name": "python3"
  },
  "language_info": {
   "codemirror_mode": {
    "name": "ipython",
    "version": 3
   },
   "file_extension": ".py",
   "mimetype": "text/x-python",
   "name": "python",
   "nbconvert_exporter": "python",
   "pygments_lexer": "ipython3",
   "version": "3.12.9"
  }
 },
 "nbformat": 4,
 "nbformat_minor": 5
}
